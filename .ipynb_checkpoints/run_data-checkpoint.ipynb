{
 "cells": [
  {
   "cell_type": "code",
   "execution_count": null,
   "id": "fcc8a08e",
   "metadata": {},
   "outputs": [],
   "source": [
    "import import_ipynb\n",
    "from Data_construction import DataConstruction\n",
    "DataConstruction.data()"
   ]
  },
  {
   "cell_type": "code",
   "execution_count": null,
   "id": "4f9d507b",
   "metadata": {},
   "outputs": [],
   "source": []
  },
  {
   "cell_type": "code",
   "execution_count": null,
   "id": "c9b95da0",
   "metadata": {},
   "outputs": [],
   "source": []
  }
 ],
 "metadata": {
  "kernelspec": {
   "display_name": "Python 3 (ipykernel)",
   "language": "python",
   "name": "python3"
  },
  "language_info": {
   "codemirror_mode": {
    "name": "ipython",
    "version": 3
   },
   "file_extension": ".py",
   "mimetype": "text/x-python",
   "name": "python",
   "nbconvert_exporter": "python",
   "pygments_lexer": "ipython3",
   "version": "3.10.13"
  }
 },
 "nbformat": 4,
 "nbformat_minor": 5
}
