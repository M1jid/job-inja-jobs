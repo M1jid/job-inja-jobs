{
 "cells": [
  {
   "cell_type": "code",
   "execution_count": 1,
   "id": "7ec33673",
   "metadata": {},
   "outputs": [],
   "source": [
    "class Urls_site:\n",
    "    \n",
    "    ''' This class is for returning the url of requsts \n",
    "\n",
    "            inputs: titel, location, category, Page identifier\n",
    "              \n",
    "            outputs:\n",
    "            urls for request\n",
    "            \n",
    "    '''\n",
    "    \n",
    "    #Createing job_inja site url\n",
    "    def job_inja(job_titles = 'هوش مصنوعی',location = 'تهران',category = '=وب،%E2%80%8C+برنامه%E2%80%8Cنویسی+و+نرم%E2%80%8Cافزار&b=',page = '&page=1'):\n",
    "        slice1 = 'https://www.jobinja.ir/jobs?filters[keywords][]='\n",
    "        slice2 = job_titles\n",
    "        slice3 = '&filters[locations][]='\n",
    "        slice4 = location\n",
    "        slice5 = '&filters[job_categories][]='\n",
    "        slice6 = category\n",
    "        slice7 = page\n",
    "        link = slice1 + slice2 + slice3 + slice4 + slice5 + slice6 + slice7\n",
    "        return link\n",
    "    \n",
    "    #Createing job_vision1 site url next version\n",
    "    def job_vision1():\n",
    "        linkjw = 'https://jobvision.ir/jobs/category/data-science-in-all-cities-of-tehran?page=1&sort=1'\n",
    "        return str(linkjw)\n",
    "    \n",
    "    #Createing e_estekhdam site url next version\n",
    "    def e_estekhdam():\n",
    "        link = 'https://www.e-estekhdam.com/search/استخدام-برنامه-نویس-در-تهران-برای-هوش-مصنوعی'\n",
    "        return str(link)\n",
    "    \n",
    "    #Createing kar_bom site url next version\n",
    "    def kar_bom():\n",
    "        link = 'https://www.karboom.io/jobs?q=هوش%20مصنوعی&address_city_id[]=87'\n",
    "        return str(link)\n",
    "    \n",
    "    #Createing iran_talent site url next version\n",
    "    def iran_talent():\n",
    "        '''for The next version '''\n",
    "        link = 'https://www.irantalent.com/jobs/jobs-in-tehran?keyword=هوش-مصنوعی&language=persian'\n",
    "        return str(link)"
   ]
  }
 ],
 "metadata": {
  "kernelspec": {
   "display_name": "Python 3 (ipykernel)",
   "language": "python",
   "name": "python3"
  },
  "language_info": {
   "codemirror_mode": {
    "name": "ipython",
    "version": 3
   },
   "file_extension": ".py",
   "mimetype": "text/x-python",
   "name": "python",
   "nbconvert_exporter": "python",
   "pygments_lexer": "ipython3",
   "version": "3.10.9"
  }
 },
 "nbformat": 4,
 "nbformat_minor": 5
}
