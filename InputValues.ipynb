{
 "cells": [
  {
   "cell_type": "code",
   "execution_count": 53,
   "id": "5109d0b3",
   "metadata": {},
   "outputs": [],
   "source": [
    "class Inputer:\n",
    "    '''this class for Make a title and location and category\n",
    "    \n",
    "        inputs:\n",
    "        titel which by default هوش مصنوعی \n",
    "        location which by default تهران \n",
    "        category  which by default 1\n",
    "        \n",
    "        outputs:\n",
    "        titel & location & category\n",
    "    '''\n",
    "    def __init__(self,titel = 'هوش مصنوعی', location = \"تهران\" , category = None):\n",
    "\n",
    "        self.titel    = titel\n",
    "        self.location = location\n",
    "        self.category = category\n",
    "        \n",
    "    #Create tite    \n",
    "    def title(Inputer):\n",
    "        job = input('enter your job title')\n",
    "        Inputer.titel = job\n",
    "        return Inputer.titel\n",
    "    \n",
    "    #Create locatin\n",
    "    def locatin(Inputer):\n",
    "        loc = input('enter your location job')\n",
    "        self.location  = loc\n",
    "        return self.location\n",
    "    #Create category\n",
    "    def category(Inputer):\n",
    "        category = input('enter category ==> برنامه نویسی ') # number 2 , 3 ... for next version and or category\n",
    "        self.category = category\n",
    "        return self.category\n",
    "\n",
    "\n"
   ]
  }
 ],
 "metadata": {
  "kernelspec": {
   "display_name": "Python 3 (ipykernel)",
   "language": "python",
   "name": "python3"
  },
  "language_info": {
   "codemirror_mode": {
    "name": "ipython",
    "version": 3
   },
   "file_extension": ".py",
   "mimetype": "text/x-python",
   "name": "python",
   "nbconvert_exporter": "python",
   "pygments_lexer": "ipython3",
   "version": "3.10.9"
  }
 },
 "nbformat": 4,
 "nbformat_minor": 5
}
