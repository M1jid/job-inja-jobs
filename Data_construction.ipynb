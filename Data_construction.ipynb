{
 "cells": [
  {
   "cell_type": "code",
   "execution_count": 112,
   "id": "2c26026a",
   "metadata": {},
   "outputs": [],
   "source": [
    "class DataConstruction:\n",
    "    def data():\n",
    "        import import_ipynb\n",
    "        from Data import Data\n",
    "        from sklearn.preprocessing import OneHotEncoder\n",
    "        import pandas as pd\n",
    "        data = Data.data()\n",
    "        dataset = data.copy()\n",
    "        onehote = OneHotEncoder(sparse_output=False)\n",
    "        Type_cooperation = onehote.fit_transform(dataset[['Type_cooperation']])\n",
    "        job_time = pd.DataFrame(Type_cooperation)\n",
    "        job_time.columns = ['Full_time','Part-time']\n",
    "        dataset = dataset.drop('Type_cooperation',axis=1)\n",
    "\n",
    "        Data_df= pd.concat([dataset,job_time],axis=1)\n",
    "\n",
    "        Data_df['job-inja_locations'] = 1\n",
    "        Data_df['job_category'] = 1\n",
    "\n",
    "\n",
    "        # job-inja_locations\t 1 = tehran\n",
    "        # job_category\t 1 = ai developer\n",
    "        datas = onehote.fit_transform(Data_df[['work_experience']])\n",
    "        datass = pd.DataFrame(datas)\n",
    "        datass.columns = ['telecommuting','3-6 Years ','No record'  , 'internship','-three years']\n",
    "        Data_df = Data_df.drop('work_experience',axis=1)\n",
    "        data_df = pd.concat([Data_df,datass],axis=1)\n",
    "\n",
    "\n",
    "        Rights = onehote.fit_transform(data_df[['rights']])\n",
    "        Rights = pd.DataFrame(Rights)\n",
    "        Rights.columns = ['10m','14m','an agreement','removed','removedd']\n",
    "        data_df = data_df.drop('rights',axis=1)\n",
    "        Rights = Rights.drop('removed',axis=1)\n",
    "        datasets = pd.concat([data_df,Rights],axis=1)\n",
    "\n",
    "\n",
    "\n",
    "\n",
    "        skills = onehote.fit_transform(data_df[['skills']])\n",
    "        skills = pd.DataFrame(skills)\n",
    "        skills.columns = ['Ai','Back-end','Flutter','Machine Vision','React','Bi','T','english','data_analysis','t','BI','ai']\n",
    "        skills = skills.drop('T',axis=1)\n",
    "        skills = skills.drop('t',axis=1)\n",
    "        data_df = data_df.drop('skills',axis=1)\n",
    "        datasetss = pd.concat([data_df,skills],axis=1)\n",
    "\n",
    "        data_numbr = datasetss.select_dtypes(include='float64')\n",
    "        data_numbr = data_numbr .astype('float32')\n",
    "        data_numbr.to_csv('data.csv',index=0)"
   ]
  }
 ],
 "metadata": {
  "kernelspec": {
   "display_name": "Python 3 (ipykernel)",
   "language": "python",
   "name": "python3"
  },
  "language_info": {
   "codemirror_mode": {
    "name": "ipython",
    "version": 3
   },
   "file_extension": ".py",
   "mimetype": "text/x-python",
   "name": "python",
   "nbconvert_exporter": "python",
   "pygments_lexer": "ipython3",
   "version": "3.10.13"
  }
 },
 "nbformat": 4,
 "nbformat_minor": 5
}
